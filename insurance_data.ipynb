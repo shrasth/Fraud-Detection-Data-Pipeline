{
 "cells": [
  {
   "cell_type": "markdown",
   "id": "ff67fe56",
   "metadata": {},
   "source": [
    "# Cleaning"
   ]
  },
  {
   "cell_type": "code",
   "execution_count": 7,
   "id": "9475d680",
   "metadata": {},
   "outputs": [
    {
     "name": "stdout",
     "output_type": "stream",
     "text": [
      "Number of Duplicate Records: 0\n"
     ]
    }
   ],
   "source": [
    "import pandas as pd\n",
    "\n",
    "df = pd.read_csv('C:\\\\Users\\\\keval\\\\Desktop\\\\Georgain\\\\2nd sem\\\\Data Analytics Project\\\\filtered.csv')\n",
    "\n",
    "# Check for duplicate records and count them\n",
    "num_duplicates = df.duplicated().sum()\n",
    "\n",
    "# Print the number of duplicate records\n",
    "print(\"Number of Duplicate Records:\", num_duplicates)"
   ]
  },
  {
   "cell_type": "code",
   "execution_count": 9,
   "id": "765a2edf",
   "metadata": {},
   "outputs": [],
   "source": [
    "# Remove records where the 'Age' column is 0\n",
    "df_filtered = df[df['Age'] != 0]\n",
    "\n",
    "# Save the filtered DataFrame to a new CSV file\n",
    "df_filtered.to_csv('C:\\\\Users\\\\keval\\\\Desktop\\\\Georgain\\\\2nd sem\\\\Data Analytics Project\\\\filtered.csv', index=False)"
   ]
  },
  {
   "cell_type": "markdown",
   "id": "d9a5c5d4",
   "metadata": {},
   "source": [
    "# 1. Claims by Age tier "
   ]
  },
  {
   "cell_type": "code",
   "execution_count": 11,
   "id": "f04c9bf1",
   "metadata": {},
   "outputs": [
    {
     "name": "stdout",
     "output_type": "stream",
     "text": [
      "   Age Category  Record Count\n",
      "0         31-35          2810\n",
      "1         26-30          2783\n",
      "2         41-45          2025\n",
      "3         36-40          2018\n",
      "4         46-50          1450\n",
      "5         51-55          1378\n",
      "6         56-60           718\n",
      "7         61-65           674\n",
      "8         21-25           613\n",
      "9         71-75           186\n",
      "10        66-70           164\n",
      "11        76-80           158\n",
      "12        16-20           123\n"
     ]
    }
   ],
   "source": [
    "import pandas as pd\n",
    "\n",
    "df1 = pd.read_csv('C:\\\\Users\\\\keval\\\\Desktop\\\\Georgain\\\\2nd sem\\\\Data Analytics Project\\\\filtered.csv')\n",
    "\n",
    "# Define the age categories\n",
    "age_bins = [16, 21, 26, 31, 36, 41, 46, 51, 56, 61, 66, 71, 76, 81]\n",
    "\n",
    "# Create labels for the age categories\n",
    "age_labels = ['16-20', '21-25', '26-30', '31-35', '36-40', '41-45', '46-50', '51-55', '56-60', '61-65', '66-70', '71-75', '76-80']\n",
    "\n",
    "# Use the cut() function to categorize ages into bins and assign labels\n",
    "df1['Age Category'] = pd.cut(df1['Age'], bins=age_bins, labels=age_labels, right=False)\n",
    "\n",
    "# Count the total number of records in each age category\n",
    "age_category_counts = df1['Age Category'].value_counts().reset_index()\n",
    "age_category_counts.columns = ['Age Category', 'Record Count']\n",
    "\n",
    "# Print the result\n",
    "print(age_category_counts)\n"
   ]
  },
  {
   "cell_type": "markdown",
   "id": "cd6abb02",
   "metadata": {},
   "source": [
    "# 2. Insurance New Policies per Agent "
   ]
  },
  {
   "cell_type": "code",
   "execution_count": 12,
   "id": "ef743f98",
   "metadata": {},
   "outputs": [
    {
     "name": "stdout",
     "output_type": "stream",
     "text": [
      "    Agent  Record Count\n",
      "0       7          1042\n",
      "1      10           973\n",
      "2       1           972\n",
      "3       9           972\n",
      "4       5           969\n",
      "5      12           961\n",
      "6      15           948\n",
      "7      16           943\n",
      "8       2           931\n",
      "9       3           929\n",
      "10     11           929\n",
      "11     14           925\n",
      "12      6           918\n",
      "13      4           904\n",
      "14      8           904\n",
      "15     13           880\n"
     ]
    }
   ],
   "source": [
    "import pandas as pd\n",
    "\n",
    "# Group by 'RepNumber' and count the records for each agent\n",
    "agent_counts = df1['RepNumber'].value_counts().reset_index()\n",
    "agent_counts.columns = ['Agent', 'Record Count']\n",
    "\n",
    "# Print the result\n",
    "print(agent_counts)"
   ]
  },
  {
   "cell_type": "markdown",
   "id": "d771485a",
   "metadata": {},
   "source": [
    "# 3. Top model (Make column) that have the most claims"
   ]
  },
  {
   "cell_type": "code",
   "execution_count": 4,
   "id": "789d9f42",
   "metadata": {},
   "outputs": [
    {
     "name": "stdout",
     "output_type": "stream",
     "text": [
      "Pontiac      3837\n",
      "Toyota       3121\n",
      "Honda        2482\n",
      "Mazda        2354\n",
      "Chevrolet    1681\n",
      "Name: Make, dtype: int64\n"
     ]
    }
   ],
   "source": [
    "import pandas as pd\n",
    "\n",
    "# Replace 'your_file.csv' with the actual path to your CSV file\n",
    "file_path = 'C:\\\\Users\\\\keval\\\\Desktop\\\\Georgain\\\\2nd sem\\\\Data Analytics Project\\\\filtered.csv'\n",
    "\n",
    "# Read the CSV file into a DataFrame\n",
    "df = pd.read_csv(file_path)\n",
    "\n",
    "# Count the occurrences of each value in the 'make' column\n",
    "make_counts = df['Make'].value_counts()\n",
    "\n",
    "# Display the count of all values in descending order\n",
    "make_counts_descending = make_counts.sort_values(ascending=False)\n",
    "print(make_counts_descending.head(5))\n"
   ]
  },
  {
   "cell_type": "markdown",
   "id": "85d7be94",
   "metadata": {},
   "source": [
    "# 4 Top model (Vehicle category column) that have the most claims"
   ]
  },
  {
   "cell_type": "code",
   "execution_count": 15,
   "id": "c462e7e7",
   "metadata": {},
   "outputs": [
    {
     "name": "stdout",
     "output_type": "stream",
     "text": [
      "Sedan      9510\n",
      "Sport      5208\n",
      "Utility     382\n",
      "Name: VehicleCategory, dtype: int64\n"
     ]
    }
   ],
   "source": [
    "# Count the occurrences of each value in the 'make' column\n",
    "make_counts = df['VehicleCategory'].value_counts()\n",
    "\n",
    "# Display the count of all values in descending order\n",
    "make_counts_descending = make_counts.sort_values(ascending=False)\n",
    "print(make_counts_descending)"
   ]
  },
  {
   "cell_type": "markdown",
   "id": "58a6ec0b",
   "metadata": {},
   "source": [
    "# 5. Top model (Make column) that have the least claims"
   ]
  },
  {
   "cell_type": "code",
   "execution_count": 5,
   "id": "c6043030",
   "metadata": {},
   "outputs": [
    {
     "name": "stdout",
     "output_type": "stream",
     "text": [
      "Lexus      1\n",
      "Ferrari    2\n",
      "Mecedes    4\n",
      "Porche     5\n",
      "Jaguar     6\n",
      "Name: Make, dtype: int64\n"
     ]
    }
   ],
   "source": [
    "# Count the occurrences of each value in the 'make' column\n",
    "make_counts = df['Make'].value_counts()\n",
    "\n",
    "# Display the count of all values in descending order\n",
    "make_counts_descending = make_counts.sort_values()\n",
    "print(make_counts_descending.head(5))"
   ]
  },
  {
   "cell_type": "markdown",
   "id": "2ff549a4",
   "metadata": {},
   "source": [
    "# 6. Average Time to Settle a Claim"
   ]
  },
  {
   "cell_type": "code",
   "execution_count": 17,
   "id": "65afb199",
   "metadata": {},
   "outputs": [
    {
     "name": "stdout",
     "output_type": "stream",
     "text": [
      "Average Time to Settle a Claim: 5.0\n"
     ]
    }
   ],
   "source": [
    "# Sample DataFrame creation\n",
    "data = {'Days_Policy_Accident': ['more than 30', '15 to 30', 'none'],\n",
    "        'Days_Policy_Claim': ['more than 30', '15 to 30', '8 to 15']}\n",
    "df = pd.DataFrame(data)\n",
    "\n",
    "# Mapping categorical values to numerical values\n",
    "mapping = {'none': 0, '1 to 7': 7, '8 to 15': 15, '15 to 30': 30, 'more than 30': 31}\n",
    "\n",
    "# Applying the mapping to the DataFrame\n",
    "df['Days_Policy_Accident_Num'] = df['Days_Policy_Accident'].map(mapping)\n",
    "df['Days_Policy_Claim_Num'] = df['Days_Policy_Claim'].map(mapping)\n",
    "\n",
    "# Calculate the difference and the Average Time to Settle a Claim\n",
    "df['Days_to_Settle_Claim'] = df['Days_Policy_Claim_Num'] - df['Days_Policy_Accident_Num']\n",
    "average_time_to_settle = df['Days_to_Settle_Claim'].mean()\n",
    "\n",
    "print(\"Average Time to Settle a Claim:\", average_time_to_settle)\n"
   ]
  },
  {
   "cell_type": "markdown",
   "id": "1be4bdd3",
   "metadata": {},
   "source": [
    "# 7. Quote Rate"
   ]
  },
  {
   "cell_type": "code",
   "execution_count": 18,
   "id": "5869a1c6",
   "metadata": {},
   "outputs": [
    {
     "name": "stdout",
     "output_type": "stream",
     "text": [
      "Quote Rate: 1.0\n"
     ]
    }
   ],
   "source": [
    "import pandas as pd\n",
    "\n",
    "# Assuming df is your DataFrame with the larger dataset\n",
    "# Calculate the quote rate\n",
    "total_opportunities = len(df)\n",
    "number_of_quotes = total_opportunities  # Assuming each row represents a quote\n",
    "\n",
    "quote_rate = number_of_quotes / total_opportunities\n",
    "\n",
    "# Display the result\n",
    "print(\"Quote Rate:\", quote_rate)\n"
   ]
  },
  {
   "cell_type": "markdown",
   "id": "d97fd387",
   "metadata": {},
   "source": [
    "# 8. Insurance Percentage Churn KPI\n",
    "\n",
    "assuming that a policy has churned (not renewed) if the 'FraudFound_P' variable is equal to 1."
   ]
  },
  {
   "cell_type": "code",
   "execution_count": 19,
   "id": "d85a5d8b",
   "metadata": {},
   "outputs": [
    {
     "name": "stdout",
     "output_type": "stream",
     "text": [
      "Insurance Percentage Churn: 5.9072847682119205\n"
     ]
    }
   ],
   "source": [
    "import pandas as pd\n",
    "\n",
    "# Replace 'your_file.csv' with the actual path to your CSV file\n",
    "file_path = 'C:\\\\Users\\\\keval\\\\Desktop\\\\Georgain\\\\2nd sem\\\\Data Analytics Project\\\\filtered.csv'\n",
    "\n",
    "# Read the CSV file into a DataFrame\n",
    "df = pd.read_csv(file_path)\n",
    "\n",
    "# Calculate Insurance Percentage Churn\n",
    "total_policies = len(df)\n",
    "churned_policies = len(df[df['FraudFound_P'] == 1])\n",
    "\n",
    "insurance_percentage_churn = (churned_policies / total_policies) * 100\n",
    "\n",
    "# Display the result\n",
    "print(\"Insurance Percentage Churn:\", insurance_percentage_churn)\n"
   ]
  },
  {
   "cell_type": "markdown",
   "id": "d256d691",
   "metadata": {},
   "source": [
    "# 9. New Policies Historical Trend"
   ]
  },
  {
   "cell_type": "code",
   "execution_count": 20,
   "id": "84795899",
   "metadata": {},
   "outputs": [
    {
     "data": {
      "image/png": "[encoded data removed]",
      "text/plain": [
       "<Figure size 1000x600 with 1 Axes>"
      ]
     },
     "metadata": {},
     "output_type": "display_data"
    }
   ],
   "source": [
    "import matplotlib.pyplot as plt\n",
    "import seaborn as sns\n",
    "\n",
    "\n",
    "# Convert categorical columns to appropriate data types\n",
    "categorical_columns = ['BasePolicy']\n",
    "for col in categorical_columns:\n",
    "    df[col] = df[col].astype('category')\n",
    "\n",
    "# Plotting the graph\n",
    "plt.figure(figsize=(10, 6))\n",
    "sns.countplot(x='Year', data=df, hue='BasePolicy')\n",
    "plt.title('Distribution of BasePolicy Types Over Years')\n",
    "plt.xlabel('Year')\n",
    "plt.ylabel('Count')\n",
    "plt.show()\n"
   ]
  },
  {
   "cell_type": "markdown",
   "id": "e99abe73",
   "metadata": {},
   "source": [
    "# 10. Insurance Retention Rate "
   ]
  },
  {
   "cell_type": "code",
   "execution_count": 27,
   "id": "19e33e40",
   "metadata": {},
   "outputs": [
    {
     "name": "stdout",
     "output_type": "stream",
     "text": [
      "Insurance Retention Rate: 94.09%\n"
     ]
    }
   ],
   "source": [
    "# Assuming 0 indicates renewal and 1 indicates non-renewal\n",
    "renewed_policies = df[df['FraudFound_P'] == 0]\n",
    "total_policies = len(df)\n",
    "\n",
    "retention_rate = (len(renewed_policies) / total_policies) * 100\n",
    "\n",
    "print(f'Insurance Retention Rate: {retention_rate:.2f}%')\n"
   ]
  },
  {
   "cell_type": "markdown",
   "id": "1180ce2d",
   "metadata": {},
   "source": [
    "# 11. Average Cost Per Claim"
   ]
  },
  {
   "cell_type": "code",
   "execution_count": 22,
   "id": "ed27e1e6",
   "metadata": {},
   "outputs": [
    {
     "name": "stdout",
     "output_type": "stream",
     "text": [
      "Average Cost Per Claim: $407.87\n"
     ]
    }
   ],
   "source": [
    "# Calculate Average Cost Per Claim\n",
    "total_claim_cost = df['Deductible'].sum()\n",
    "total_claims = len(df)\n",
    "\n",
    "average_cost_per_claim = total_claim_cost / total_claims\n",
    "\n",
    "print(f'Average Cost Per Claim: ${average_cost_per_claim:.2f}')\n"
   ]
  },
  {
   "cell_type": "markdown",
   "id": "6fe7a3d2",
   "metadata": {},
   "source": [
    "# 12. Yearly Growth"
   ]
  },
  {
   "cell_type": "code",
   "execution_count": 31,
   "id": "cc5eb14c",
   "metadata": {},
   "outputs": [
    {
     "data": {
      "image/png": "[encoded data removed]",
      "text/plain": [
       "<Figure size 1000x600 with 1 Axes>"
      ]
     },
     "metadata": {},
     "output_type": "display_data"
    }
   ],
   "source": [
    "#Grouping by year\n",
    "policy_counts_by_year = df.groupby('Year')['PolicyNumber'].count()\n",
    "\n",
    "#Plotting\n",
    "plt.figure(figsize=(10, 6))\n",
    "policy_counts_by_year.plot(kind='bar', color='#086972')\n",
    "plt.title('Total Number of Policies Grouped by Year')\n",
    "plt.xlabel('Year')\n",
    "plt.ylabel('Number of Policies')\n",
    "plt.xticks(rotation=0)\n",
    "plt.show()"
   ]
  },
  {
   "cell_type": "markdown",
   "id": "4edd156f",
   "metadata": {},
   "source": [
    "# 13. Profitable Regions"
   ]
  },
  {
   "cell_type": "code",
   "execution_count": 39,
   "id": "a32137ee",
   "metadata": {},
   "outputs": [
    {
     "data": {
      "image/png": "[encoded data removed]",
      "text/plain": [
       "<Figure size 1000x600 with 1 Axes>"
      ]
     },
     "metadata": {},
     "output_type": "display_data"
    }
   ],
   "source": [
    "#Grouping by region\n",
    "policy_counts_by_year = df.groupby('AccidentArea')['PolicyNumber'].count()\n",
    "\n",
    "#Plotting\n",
    "plt.figure(figsize=(10, 6))\n",
    "policy_counts_by_year.plot(kind='bar', color='purple')\n",
    "plt.title('Claims by region')\n",
    "plt.xlabel('Region')\n",
    "plt.ylabel('Number of Policies')\n",
    "plt.xticks(rotation=0)\n",
    "plt.show()"
   ]
  },
  {
   "cell_type": "markdown",
   "id": "13bd33b2",
   "metadata": {},
   "source": [
    "# 14. Insurance Fraud Percentage"
   ]
  },
  {
   "cell_type": "code",
   "execution_count": 46,
   "id": "b31c88df",
   "metadata": {},
   "outputs": [
    {
     "name": "stdout",
     "output_type": "stream",
     "text": [
      "Total Fraud Found: 892\n",
      "Total Fraud Percentage: 5.91%\n"
     ]
    },
    {
     "data": {
      "image/png": "[encoded data removed]",
      "text/plain": [
       "<Figure size 1200x600 with 1 Axes>"
      ]
     },
     "metadata": {},
     "output_type": "display_data"
    }
   ],
   "source": [
    "# Calculate the total fraud percentage\n",
    "total_fraud_percentage = (total_fraud_found / total_policies) * 100\n",
    "\n",
    "# Print the results\n",
    "print(f'Total Fraud Found: {total_fraud_found}')\n",
    "print(f'Total Fraud Percentage: {total_fraud_percentage:.2f}%')\n",
    "\n",
    "\n",
    "# Group by 'Year' and calculate the fraud percentage for each year\n",
    "fraud_percentage_by_year = df.groupby('Year')['FraudFound_P'].mean() * 100\n",
    "\n",
    "# Calculate the total fraud found over all years\n",
    "total_fraud_found = df['FraudFound_P'].sum()\n",
    "\n",
    "# Plotting\n",
    "plt.figure(figsize=(12, 6))\n",
    "\n",
    "# Bar plot for yearly fraud percentages\n",
    "plt.subplot(1, 2, 1)\n",
    "bars = fraud_percentage_by_year.plot(kind='bar', color='salmon')\n",
    "plt.title('Fraud Percentage Over the Years')\n",
    "plt.xlabel('Year')\n",
    "plt.ylabel('Fraud Percentage')\n",
    "plt.xticks(rotation=0)  # Rotate x-axis labels if needed\n",
    "plt.ylim(0, 100)  # Set y-axis limit to percentage range\n",
    "\n",
    "# Adding labels on top of the bars\n",
    "for bar in bars.patches:\n",
    "    plt.text(bar.get_x() + bar.get_width() / 2 - 0.1, bar.get_height() + 0.5,\n",
    "             f'{bar.get_height():.2f}%', ha='center', color='black', fontsize=9)\n",
    "\n",
    "plt.show()\n"
   ]
  },
  {
   "cell_type": "code",
   "execution_count": null,
   "id": "023aaa54",
   "metadata": {},
   "outputs": [],
   "source": []
  }
 ],
 "metadata": {
  "kernelspec": {
   "display_name": "Python 3 (ipykernel)",
   "language": "python",
   "name": "python3"
  },
  "language_info": {
   "codemirror_mode": {
    "name": "ipython",
    "version": 3
   },
   "file_extension": ".py",
   "mimetype": "text/x-python",
   "name": "python",
   "nbconvert_exporter": "python",
   "pygments_lexer": "ipython3",
   "version": "3.9.13"
  }
 },
 "nbformat": 4,
 "nbformat_minor": 5
}
